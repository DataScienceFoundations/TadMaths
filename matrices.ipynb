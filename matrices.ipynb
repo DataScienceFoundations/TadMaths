{
 "cells": [
  {
   "cell_type": "markdown",
   "metadata": {},
   "source": [
    "# NOTE\n",
    "The material in this notebook is strongly influenced by a linear algebra tutorial by Aurelien Geron that can be found here:\n",
    "\n",
    "https://github.com/ageron/handson-ml/blob/master/math_linear_algebra.ipynb"
   ]
  },
  {
   "cell_type": "markdown",
   "metadata": {},
   "source": [
    "# Matrices with Python\n",
    "First, NumPy and Matplotlib need to be imported. Matplotlib needs to be made inline for the notebook, and seaborn needs to be imported to make the plots look prettier.\n",
    "\n",
    "Note that the 3D toolkit of Matplotlib is being imported."
   ]
  },
  {
   "cell_type": "code",
   "execution_count": 1,
   "metadata": {},
   "outputs": [],
   "source": [
    "%matplotlib inline\n",
    "\n",
    "import matplotlib.pyplot as plt\n",
    "import seaborn as sns\n",
    "\n",
    "from mpl_toolkits.mplot3d import Axes3D\n",
    "\n",
    "import numpy as np\n",
    "import numpy.linalg as la"
   ]
  },
  {
   "cell_type": "markdown",
   "metadata": {},
   "source": [
    "As in the vectors notebook, seaborn will be used to pretty up any plots."
   ]
  },
  {
   "cell_type": "code",
   "execution_count": 3,
   "metadata": {},
   "outputs": [],
   "source": [
    "sns.set(style='whitegrid', palette='muted', font='roboto')\n",
    "sns.set_context('talk')"
   ]
  },
  {
   "cell_type": "markdown",
   "metadata": {},
   "source": [
    "Most matrices used throughout this notebook will now be defined. They are as follows:\n",
    "- A: square matrix in $\\rm I\\!R^3$\n",
    "- B: square matrix in $\\rm I\\!R^3$\n",
    "- C: square matrix in $\\rm I\\!R^3$\n",
    "- D: upper triangular matrix in $\\rm I\\!R^3$\n",
    "- E: lower triangular matrix in $\\rm I\\!R^3$\n",
    "- F: diagonal matrix in $\\rm I\\!R^3$\n",
    "- G: 3x2 matrix\n",
    "- H: 2x3 matrix\n",
    "- I: Identity matrix in $\\rm I\\!R^3$\n",
    "- J: 5x4 matrix\n",
    "- K: 4x6 matrix\n",
    "- L: 2x5 matrix\n",
    "- M: 6x1 matrix"
   ]
  },
  {
   "cell_type": "code",
   "execution_count": 5,
   "metadata": {},
   "outputs": [],
   "source": [
    "A = np.array([\n",
    "    [2,4,1],\n",
    "    [6,4,3],\n",
    "    [4,1,2],\n",
    "])\n",
    "B = np.array([\n",
    "    [7,5,2],\n",
    "    [0,1,0],\n",
    "    [5,5,5],\n",
    "])\n",
    "C = np.array([\n",
    "    [4,2,5],\n",
    "    [6,5,2],\n",
    "    [8,2,3],\n",
    "])\n",
    "D = np.array([\n",
    "    [4,5,7],\n",
    "    [0,5,1],\n",
    "    [0,0,3],\n",
    "])\n",
    "E = np.array([\n",
    "    [4,0,0],\n",
    "    [6,2,0],\n",
    "    [4,2,3],\n",
    "])\n",
    "F = np.array([\n",
    "    [4,0,0],\n",
    "    [0,7,0],\n",
    "    [0,0,3],\n",
    "])\n",
    "G = np.array([\n",
    "    [2,2],\n",
    "    [3,1],\n",
    "    [6,3],\n",
    "])\n",
    "H = np.array([\n",
    "    [7,5,3],\n",
    "    [2,1,3],\n",
    "])\n",
    "I = np.eye(3)\n",
    "J = np.array([\n",
    "    [4,3,2,1],\n",
    "    [2,4,3,5],\n",
    "    [6,4,7,2],\n",
    "    [1,3,5,2],\n",
    "    [3,3,4,4],\n",
    "])\n",
    "K = np.array([\n",
    "    [2,1,3,4,2,5],\n",
    "    [4,3,5,6,1,2],\n",
    "    [4,7,2,3,1,1],\n",
    "    [3,2,5,4,6,3],\n",
    "])\n",
    "L = np.array([\n",
    "    [4,6,2,7,6],\n",
    "    [3,2,3,3,1],\n",
    "])\n",
    "M = np.array([\n",
    "    [1],\n",
    "    [5],\n",
    "    [4],\n",
    "    [3],\n",
    "    [5],\n",
    "    [9],\n",
    "])"
   ]
  },
  {
   "cell_type": "code",
   "execution_count": 6,
   "metadata": {},
   "outputs": [
    {
     "name": "stdout",
     "output_type": "stream",
     "text": [
      "Shape of A: (3, 3)\n",
      "Shape of J: (5, 4)\n",
      "Shape of M: (6, 1)\n"
     ]
    }
   ],
   "source": [
    "print(f'Shape of A: {A.shape}')\n",
    "print(f'Shape of J: {J.shape}')\n",
    "print(f'Shape of M: {M.shape}')"
   ]
  },
  {
   "cell_type": "code",
   "execution_count": 9,
   "metadata": {},
   "outputs": [
    {
     "name": "stdout",
     "output_type": "stream",
     "text": [
      "3D Square Matrix:\n",
      "[[2 4 1]\n",
      " [6 4 3]\n",
      " [4 1 2]]\n"
     ]
    }
   ],
   "source": [
    "print(f'3D Square Matrix:\\n{A}')"
   ]
  },
  {
   "cell_type": "code",
   "execution_count": 10,
   "metadata": {},
   "outputs": [
    {
     "name": "stdout",
     "output_type": "stream",
     "text": [
      "3D Upper Triangular Matrix:\n",
      "[[4 5 7]\n",
      " [0 5 1]\n",
      " [0 0 3]]\n",
      "3D Lower Triangular Matrix:\n",
      "[[4 0 0]\n",
      " [6 2 0]\n",
      " [4 2 3]]\n"
     ]
    }
   ],
   "source": [
    "print(f'3D Upper Triangular Matrix:\\n{D}')\n",
    "print(f'\\n3D Lower Triangular Matrix:\\n{E}')"
   ]
  },
  {
   "cell_type": "code",
   "execution_count": 11,
   "metadata": {},
   "outputs": [
    {
     "name": "stdout",
     "output_type": "stream",
     "text": [
      "3D Diagonal Matrix:\n",
      "[[4 0 0]\n",
      " [0 7 0]\n",
      " [0 0 3]]\n"
     ]
    }
   ],
   "source": [
    "print(f'3D Diagonal Matrix:\\n{F}')"
   ]
  },
  {
   "cell_type": "code",
   "execution_count": 8,
   "metadata": {},
   "outputs": [
    {
     "name": "stdout",
     "output_type": "stream",
     "text": [
      "3D Identity Matrix:\n",
      "[[1. 0. 0.]\n",
      " [0. 1. 0.]\n",
      " [0. 0. 1.]]\n"
     ]
    }
   ],
   "source": [
    "print(f'3D Identity Matrix:\\n{I}')"
   ]
  },
  {
   "cell_type": "markdown",
   "metadata": {},
   "source": [
    "## Matrix Addition\n",
    "Matrix addition can only be done with two matrices of the same size $m\\times{n}$. The sum of two matrices of size $m\\times{n}$ results in a third matrix of size $m\\times{n}$ in which each element equals the sum of the corresponding elements in the original two matrices. So, $C_{i,j} = A_{i,j} + B_{i,j}$."
   ]
  },
  {
   "cell_type": "code",
   "execution_count": 17,
   "metadata": {},
   "outputs": [
    {
     "name": "stdout",
     "output_type": "stream",
     "text": [
      "A:\n",
      "[[2 4 1]\n",
      " [6 4 3]\n",
      " [4 1 2]]\n",
      "B:\n",
      "[[7 5 2]\n",
      " [0 1 0]\n",
      " [5 5 5]]\n",
      "A+B:\n",
      "[[9 9 3]\n",
      " [6 5 3]\n",
      " [9 6 7]]\n"
     ]
    }
   ],
   "source": [
    "print(f'A:\\n{A}')\n",
    "print(f'B:\\n{B}')\n",
    "print(f'A+B:\\n{A+B}')"
   ]
  },
  {
   "cell_type": "markdown",
   "metadata": {},
   "source": [
    "It exhibits the following properties:"
   ]
  },
  {
   "cell_type": "code",
   "execution_count": 18,
   "metadata": {},
   "outputs": [
    {
     "name": "stdout",
     "output_type": "stream",
     "text": [
      "Matrix of any size:\n",
      "K + K =\n",
      "[[ 4  2  6  8  4 10]\n",
      " [ 8  6 10 12  2  4]\n",
      " [ 8 14  4  6  2  2]\n",
      " [ 6  4 10  8 12  6]]\n",
      "\n",
      "Commutative:\n",
      "A + B =\n",
      "[[9 9 3]\n",
      " [6 5 3]\n",
      " [9 6 7]]\n",
      "\n",
      "B + A =\n",
      "[[9 9 3]\n",
      " [6 5 3]\n",
      " [9 6 7]]\n",
      "\n",
      "Associative:\n",
      "A + (B + C) =\n",
      "[[13 11  8]\n",
      " [12 10  5]\n",
      " [17  8 10]]\n",
      "\n",
      "(A + B) +C =\n",
      "[[13 11  8]\n",
      " [12 10  5]\n",
      " [17  8 10]]\n",
      "\n",
      "Must belong to the same set of valued tuples:\n",
      "A + K =\n",
      "operands could not be broadcast together with shapes (3,3) (4,6) \n"
     ]
    }
   ],
   "source": [
    "print('Matrix of any size:')\n",
    "print(f'K + K =\\n{K + K}')\n",
    "\n",
    "print('\\nCommutative:')\n",
    "print(f'A + B =\\n{A + B}')\n",
    "print(f'\\nB + A =\\n{B + A}')\n",
    "\n",
    "print('\\nAssociative:')\n",
    "print(f'A + (B + C) =\\n{A + (B + C)}')\n",
    "print(f'\\n(A + B) +C =\\n{(A + B) + C}')\n",
    "\n",
    "print('\\nMust belong to the same set of valued tuples:')\n",
    "try:\n",
    "    print(f'A + K =')\n",
    "    A + K\n",
    "except Exception as e:\n",
    "    print(e)"
   ]
  },
  {
   "cell_type": "markdown",
   "metadata": {},
   "source": [
    "## Matrix Multiplication\n",
    "There are two primary ways in which matrices are multiplied: Scalar Multiplication and Matrix Multiplication.\n",
    "\n",
    "### Scalar Multiplication\n",
    "Multiplying a matrix by a scalar is equivalent to multiplying each element in the matrix by that same scalar."
   ]
  },
  {
   "cell_type": "code",
   "execution_count": 13,
   "metadata": {},
   "outputs": [
    {
     "name": "stdout",
     "output_type": "stream",
     "text": [
      "A:\n",
      "[[2 4 1]\n",
      " [6 4 3]\n",
      " [4 1 2]]\n",
      "\n",
      "scalar * A:\n",
      "[[ 6 12  3]\n",
      " [18 12  9]\n",
      " [12  3  6]]\n"
     ]
    }
   ],
   "source": [
    "scalar = 3\n",
    "print(f'A:\\n{A}')\n",
    "print(f'\\nscalar * A:\\n{scalar*A}')"
   ]
  },
  {
   "cell_type": "markdown",
   "metadata": {},
   "source": [
    "It exhibits the following properties:"
   ]
  },
  {
   "cell_type": "code",
   "execution_count": 14,
   "metadata": {},
   "outputs": [
    {
     "name": "stdout",
     "output_type": "stream",
     "text": [
      "Matrix of any size:\n",
      "3 * K =\n",
      "[[ 6  3  9 12  6 15]\n",
      " [12  9 15 18  3  6]\n",
      " [12 21  6  9  3  3]\n",
      " [ 9  6 15 12 18  9]]\n",
      "\n",
      "3 * M =\n",
      "[[ 3]\n",
      " [15]\n",
      " [12]\n",
      " [ 9]\n",
      " [15]\n",
      " [27]]\n",
      "\n",
      "Commutative:\n",
      "3 * A =\n",
      "[[ 6 12  3]\n",
      " [18 12  9]\n",
      " [12  3  6]]\n",
      "\n",
      "A * 3 =\n",
      "[[ 6 12  3]\n",
      " [18 12  9]\n",
      " [12  3  6]]\n",
      "\n",
      "Associative:\n",
      "3 * (3 * A) =\n",
      "[[18 36  9]\n",
      " [54 36 27]\n",
      " [36  9 18]]\n",
      "\n",
      "(3 * 3) * A =\n",
      "[[18 36  9]\n",
      " [54 36 27]\n",
      " [36  9 18]]\n",
      "\n",
      "Distributive:\n",
      "3 * (A + B) =\n",
      "[[27 27  9]\n",
      " [18 15  9]\n",
      " [27 18 21]]\n",
      "\n",
      "(3 * A) + (3 * B) =\n",
      "[[27 27  9]\n",
      " [18 15  9]\n",
      " [27 18 21]]\n"
     ]
    }
   ],
   "source": [
    "print('Matrix of any size:')\n",
    "print(f'{scalar} * K =\\n{scalar * K}')\n",
    "print(f'\\n{scalar} * M =\\n{scalar * M}')\n",
    "\n",
    "print('\\nCommutative:')\n",
    "print(f'{scalar} * A =\\n{scalar * A}')\n",
    "print(f'\\nA * {scalar} =\\n{A * scalar}')\n",
    "\n",
    "print('\\nAssociative:')\n",
    "print(f'{scalar} * ({scalar} * A) =\\n{scalar * (scalar * A)}')\n",
    "print(f'\\n({scalar} * {scalar}) * A =\\n{(scalar * scalar) * A}')\n",
    "\n",
    "print('\\nDistributive:')\n",
    "print(f'{scalar} * (A + B) =\\n{scalar * (A + B)}')\n",
    "print(f'\\n({scalar} * A) + ({scalar} * B) =\\n{(scalar * A) + (scalar * B)}')"
   ]
  },
  {
   "cell_type": "markdown",
   "metadata": {},
   "source": [
    "### Matrix Multiplication\n",
    "Matrix multiplication, like matrix addition, can only be done with matrices of particular sizes. For a matrix multiplication to occur between __A__ and **B**, <b>A</b> must be of size $m\\times{n}$, and <b>B</b> must be of size $n\\times{k}$. The resulting matrix is of size $m\\times{k}$. Each element in the resulting matrix is equal to the dot product of <b>A</b>'s row vectors $R_i$ up to $i=n$ and <b>B</b>'s column vectors $C_i$ up to $i=n$. It is better represented by:\n",
    "\n",
    "$$\n",
    "\\left[\\matrix{\n",
    "A_{11}B_{11}+A_{12}B_{21}+\\cdots +A_{1n}B_{n1} & A_{11}B_{12}+A_{12}B_{22}+\\cdots +A_{1n}B_{n2} & \\ldots & A_{11}B_{1k}+A_{12}B_{2k}+\\cdots +A_{1n}B_{nk} \\cr\n",
    "A_{21}B_{11}+A_{22}B_{21}+\\cdots +A_{2n}B_{n1} & A_{21}B_{12}+A_{22}B_{22}+\\cdots +A_{2n}B_{n2} & \\ldots & A_{21}B_{1k}+A_{22}B_{2k}+\\cdots +A_{2n}B_{nk} \\cr\n",
    "\\vdots & \\vdots & \\ddots & \\vdots \\cr\n",
    "A_{m1}B_{11}+A_{m2}B_{21}+\\cdots +A_{mn}B_{n1} & A_{m1}B_{12}+A_{m2}B_{22}+\\cdots +A_{mn}B_{n2} & \\ldots & A_{m1}B_{1k}+A_{m2}B_{2k}+\\cdots +A_{mn}B_{nk}\n",
    "}\\right]\n",
    "$$\n",
    "\n",
    "It's much easier to understand with examples. As with vector dot products, numpy offers 2 functions for matrix multiplications, as well as the infix operator ('@') introduced in Python 3.5."
   ]
  },
  {
   "cell_type": "code",
   "execution_count": 35,
   "metadata": {},
   "outputs": [
    {
     "name": "stdout",
     "output_type": "stream",
     "text": [
      "[[2 4 1]\n",
      " [6 4 3]\n",
      " [4 1 2]]\n"
     ]
    }
   ],
   "source": [
    "print(A)"
   ]
  },
  {
   "cell_type": "code",
   "execution_count": 36,
   "metadata": {},
   "outputs": [
    {
     "name": "stdout",
     "output_type": "stream",
     "text": [
      "[[7 5 2]\n",
      " [0 1 0]\n",
      " [5 5 5]]\n"
     ]
    }
   ],
   "source": [
    "print(B)"
   ]
  },
  {
   "cell_type": "code",
   "execution_count": 34,
   "metadata": {},
   "outputs": [
    {
     "name": "stdout",
     "output_type": "stream",
     "text": [
      "[[19 19  9]\n",
      " [57 49 27]\n",
      " [38 31 18]]\n",
      "[[19 19  9]\n",
      " [57 49 27]\n",
      " [38 31 18]]\n",
      "[[19 19  9]\n",
      " [57 49 27]\n",
      " [38 31 18]]\n",
      "[[19 19  9]\n",
      " [57 49 27]\n",
      " [38 31 18]]\n"
     ]
    }
   ],
   "source": [
    "print(A@B)\n",
    "print(A.dot(B))\n",
    "print(np.dot(A,B))\n",
    "print(np.matmul(A,B))"
   ]
  },
  {
   "cell_type": "code",
   "execution_count": 37,
   "metadata": {},
   "outputs": [
    {
     "name": "stdout",
     "output_type": "stream",
     "text": [
      "Element 2,1 in A multiplied by B:\n",
      "57 == 57\n"
     ]
    }
   ],
   "source": [
    "print('Element 2,1 in A multiplied by B:')\n",
    "print(f'{A[1][0]*B[0][0]+A[1][1]*B[1][0]+A[1][2]*B[2][0]} == {(A@B)[1][0]}')"
   ]
  },
  {
   "cell_type": "code",
   "execution_count": 44,
   "metadata": {},
   "outputs": [
    {
     "name": "stdout",
     "output_type": "stream",
     "text": [
      "Not Commutative:\n",
      "J * K =\n",
      "[[31 29 36 44 19 31]\n",
      " [47 45 57 61 41 36]\n",
      " [62 71 62 77 35 51]\n",
      " [40 49 38 45 22 22]\n",
      " [46 48 52 58 37 37]]\n",
      "K * J =\n",
      "shapes (4,6) and (5,4) not aligned: 6 (dim 1) != 5 (dim 0)\n",
      "\n",
      "Associative:\n",
      "J * (K * M) =\n",
      "[[ 826]\n",
      " [1212]\n",
      " [1530]\n",
      " [ 880]\n",
      " [1186]]\n",
      "\n",
      "(J * K) * M =\n",
      "[[ 826]\n",
      " [1212]\n",
      " [1530]\n",
      " [ 880]\n",
      " [1186]]\n",
      "\n",
      "Associative for Scalar Multiplication:\n",
      "3 * (J * K) =\n",
      "[[ 93  87 108 132  57  93]\n",
      " [141 135 171 183 123 108]\n",
      " [186 213 186 231 105 153]\n",
      " [120 147 114 135  66  66]\n",
      " [138 144 156 174 111 111]]\n",
      "\n",
      "(3 * J) * K =\n",
      "[[ 93  87 108 132  57  93]\n",
      " [141 135 171 183 123 108]\n",
      " [186 213 186 231 105 153]\n",
      " [120 147 114 135  66  66]\n",
      " [138 144 156 174 111 111]]\n",
      "\n",
      "Distributive for Matrix Addition:\n",
      "H * (A + B) =\n",
      "[[120 106  57]\n",
      " [ 51  41  30]]\n",
      "\n",
      "(H * A) + (H * B) =\n",
      "[[120 106  57]\n",
      " [ 51  41  30]]\n"
     ]
    }
   ],
   "source": [
    "print('Not Commutative:')\n",
    "print(f'J * K =\\n{J@K}')\n",
    "try:\n",
    "    print(f'K * J =')\n",
    "    K@J\n",
    "except Exception as e:\n",
    "    print(e)\n",
    "\n",
    "print('\\nAssociative:')\n",
    "print(f'J * (K * M) =\\n{J @ (K @ M)}')\n",
    "print(f'\\n(J * K) * M =\\n{(J @ K) @ M}')\n",
    "    \n",
    "print('\\nAssociative for Scalar Multiplication:')\n",
    "print(f'{scalar} * (J * K) =\\n{scalar * (J @ K)}')\n",
    "print(f'\\n({scalar} * J) * K =\\n{(scalar * J) @ K}')\n",
    "\n",
    "print('\\nDistributive for Matrix Addition:')\n",
    "print(f'H * (A + B) =\\n{H @ (A + B)}')\n",
    "print(f'\\n(H * A) + (H * B) =\\n{(H @ A) + (H @ B)}')"
   ]
  },
  {
   "cell_type": "code",
   "execution_count": null,
   "metadata": {},
   "outputs": [],
   "source": []
  }
 ],
 "metadata": {
  "kernelspec": {
   "display_name": "Python 3",
   "language": "python",
   "name": "python3"
  },
  "language_info": {
   "codemirror_mode": {
    "name": "ipython",
    "version": 3
   },
   "file_extension": ".py",
   "mimetype": "text/x-python",
   "name": "python",
   "nbconvert_exporter": "python",
   "pygments_lexer": "ipython3",
   "version": "3.6.5"
  }
 },
 "nbformat": 4,
 "nbformat_minor": 2
}
